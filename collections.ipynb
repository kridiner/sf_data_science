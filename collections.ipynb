{
 "cells": [
  {
   "cell_type": "code",
   "execution_count": null,
   "metadata": {},
   "outputs": [],
   "source": [
    "from collections import Counter\n",
    "c = Counter()\n",
    "\n",
    "c['red'] += 1\n",
    "\n",
    "print (c)"
   ]
  },
  {
   "cell_type": "code",
   "execution_count": null,
   "metadata": {},
   "outputs": [],
   "source": [
    "import sys\n",
    "print(sys.version)"
   ]
  },
  {
   "cell_type": "code",
   "execution_count": null,
   "metadata": {},
   "outputs": [],
   "source": [
    "from collections import OrderedDict\n",
    "\n",
    "temps = [('2000', -4.4), ('2001', -2.5), ('2002', -4.4), ('2003', -9.5)]\n",
    "\n",
    "def check(temps):\n",
    "    retdict = OrderedDict(sorted(temps, key=lambda x: x[1], reverse=True))\n",
    "    return retdict\n",
    "\n",
    "print (check(temps))\n",
    "\n",
    "### OrderedDict([('2001', -2.5), ('2000', -4.4), ('2002', -4.4), ('2003', -9.5)])"
   ]
  },
  {
   "cell_type": "code",
   "execution_count": null,
   "metadata": {},
   "outputs": [],
   "source": [
    "from collections import deque\n",
    "\n",
    "def brackets(line):\n",
    "    stc = deque()\n",
    "    for i, ch in enumerate(line):\n",
    "        if line[i] == '(':\n",
    "            stc.append(line[i])\n",
    "        elif line[i] == ')':\n",
    "            try:\n",
    "                stc.pop()\n",
    "            except IndexError:\n",
    "                return False\n",
    "    try:\n",
    "        stc.pop()\n",
    "        return False\n",
    "    except IndexError:\n",
    "        return True\n",
    "    return True\n",
    "\n",
    "print(brackets(\"(()())\"))\n",
    "# True\n",
    "print(brackets(\"\"))\n",
    "# True\n",
    "print(brackets(\"(()()))\"))\n",
    "# False\n",
    "\n"
   ]
  },
  {
   "cell_type": "code",
   "execution_count": null,
   "metadata": {},
   "outputs": [],
   "source": [
    "from collections import defaultdict\n",
    "#import collections\n",
    "\n",
    "dict_object = dict()\n",
    "defaultdict_object = defaultdict()\n",
    " \n",
    "print(type(dict_object))\n",
    "# <class 'dict'>\n",
    "print(type(defaultdict_object))\n",
    "# <class 'collections.defaultdict'>\n",
    "\n",
    "#center = defaultdict(None, [['Milk', 'Bread'], ['Meat']], ['Milk', 'Bread', 'Meat'])\n",
    "#(center, south, north) = (1, 2, 3)\n",
    "\n",
    "#print (center)"
   ]
  },
  {
   "cell_type": "code",
   "execution_count": null,
   "metadata": {},
   "outputs": [],
   "source": [
    "# (ключ, значение)\n",
    "data = [('Ivan', 19),('Mark', 25),('Andrey', 23),('Maria', 20)]\n",
    "client_ages = dict(data)\n",
    "print(client_ages)\n",
    "\n",
    "from collections import OrderedDict\n",
    "data = [('Ivan', 19),('Mark', 25),('Andrey', 23),('Maria', 20)]\n",
    "ordered_client_ages = OrderedDict(data)\n",
    "print(ordered_client_ages)\n",
    "\n",
    "ordered_client_ages = OrderedDict(sorted(data, key=lambda x: x[1]))\n",
    "print(ordered_client_ages)\n",
    "\n",
    "ordered_client_ages['Nikita'] = 18\n",
    "print(ordered_client_ages)\n",
    "\n",
    "del ordered_client_ages['Andrey']\n",
    "print(ordered_client_ages)\n",
    "# OrderedDict([('Ivan', 19), ('Mark', 25), ('Maria', 20), ('Nikita', 18)])\n",
    "ordered_client_ages['Andrey'] = 23\n",
    "print(ordered_client_ages)"
   ]
  },
  {
   "cell_type": "code",
   "execution_count": null,
   "metadata": {},
   "outputs": [],
   "source": [
    "from collections import deque\n",
    "clients = deque()\n",
    "clients.append('Ivanov')\n",
    "clients.append('Petrov')\n",
    "clients.append('Smirnov')\n",
    "clients.append('Tikhonova')\n",
    "print(clients)\n",
    "print(clients[2])"
   ]
  },
  {
   "cell_type": "code",
   "execution_count": null,
   "metadata": {},
   "outputs": [],
   "source": [
    "i = 3 + 4 + 5 + 6 + 7 + 8 + 9 + 10 + 11 + 12 + 13 + 14 + 15 + 16 + 17\n",
    "print (i)"
   ]
  },
  {
   "cell_type": "code",
   "execution_count": null,
   "metadata": {},
   "outputs": [],
   "source": [
    "from hidden import *\n",
    "from collections import *\n",
    "\n",
    "def flatten(S):\n",
    "    if S == []:\n",
    "        return S\n",
    "    if isinstance(S[0], list):\n",
    "        return flatten(S[0]) + flatten(S[1:])\n",
    "    return S[:1] + flatten(S[1:])\n",
    "\n",
    "c = list(center)\n",
    "s = list(south)\n",
    "n = list(north)\n",
    "\n",
    "cc = Counter(flatten(c))\n",
    "ss = Counter(flatten(s))\n",
    "nn = Counter(flatten(n))\n",
    "    \n",
    "#print (cc)\n",
    "#print (ss)\n",
    "print (nn)\n",
    "\n",
    "cc."
   ]
  },
  {
   "cell_type": "code",
   "execution_count": null,
   "metadata": {},
   "outputs": [],
   "source": [
    "from collections import *\n",
    "ratings = [('Old York', 3.3), ('New Age', 4.6), ('Old Gold', 3.3), ('General Foods', 4.8),\n",
    "           ('Belissimo', 4.5), ('CakeAndCoffee', 4.2), ('CakeOClock', 4.2), ('CakeTime', 4.1),\n",
    "           ('WokToWork', 4.9), ('WokAndRice', 4.9), ('Old Wine Cellar', 3.3), ('Nice Cakes', 3.9)]\n",
    "cafes = OrderedDict(sorted(ratings, key=lambda x: (-x[1], x[0]), reverse=False))\n",
    "print (cafes)"
   ]
  },
  {
   "cell_type": "code",
   "execution_count": null,
   "metadata": {},
   "outputs": [],
   "source": [
    "from collections import *\n",
    "def task_manager(tasks):\n",
    "    dd = defaultdict(deque)\n",
    "    for it in tasks:\n",
    "        dq = deque(dd[it[1]])\n",
    "        if it[2]:\n",
    "            dq.appendleft(it[0])\n",
    "        else:\n",
    "            dq.append(it[0])\n",
    "        dd[it[1]] = dq\n",
    "    return dd\n",
    "\n",
    "tasks = [(36871, 'office', False),\n",
    "(40690, 'office', False),\n",
    "(35364, 'voltage', False),\n",
    "(41667, 'voltage', True),\n",
    "(33850, 'office', False)]\n",
    "\n",
    "print(task_manager(tasks))\n",
    "# defaultdict(, {'voltage': deque([41667, 35364]), 'office': deque([36871, 40690, 33850])})\n"
   ]
  },
  {
   "cell_type": "code",
   "execution_count": null,
   "metadata": {},
   "outputs": [],
   "source": [
    "#!pip install numpy\n",
    "import numpy as np\n",
    "a = -456\n",
    "print (a)\n",
    "\n",
    "b = np.int8(a)\n",
    "print (b)"
   ]
  },
  {
   "cell_type": "code",
   "execution_count": null,
   "metadata": {},
   "outputs": [],
   "source": [
    "#!pip install numpy\n",
    "import numpy as np\n",
    "arr, step = np.linspace(-6, 21, 60, endpoint=False, retstep=True)\n",
    "print(step)\n",
    "print arr."
   ]
  },
  {
   "cell_type": "code",
   "execution_count": 63,
   "metadata": {},
   "outputs": [
    {
     "name": "stdout",
     "output_type": "stream",
     "text": [
      "[ 12279. -26024.  28745.     nan  31244.  -2365.  -6974.  -9212.     nan\n",
      " -17722.  16132.  25933.     nan -16431.  29810.]\n",
      "[[-26024.  -2365.  29810.]\n",
      " [-17722.  12279.  31244.]\n",
      " [-16431.  16132.     nan]\n",
      " [ -9212.  25933.     nan]\n",
      " [ -6974.  28745.     nan]]\n",
      "[-2365. 12279. 16132. 25933. 28745.]\n"
     ]
    }
   ],
   "source": [
    "import numpy as np\n",
    "\n",
    "mystery = np.array([ 12279., -26024.,  28745.,  np.nan,  31244.,  -2365.,  -6974., -9212., np.nan, -17722.,  16132.,  25933.,  np.nan, -16431., 29810.], dtype=np.float32)\n",
    "\n",
    "nans_index = np.isnan(mystery)\n",
    "n_nan = np.count_nonzero(np.isnan(mystery))\n",
    "mystery_new = np.array(mystery, dtype=np.float32)\n",
    "mystery_new[np.isnan(mystery_new)] = 0\n",
    "#mystery_int = mystery.astype('int32')\n",
    "array = np.sort(mystery)\n",
    "#table = mystery.reshape((5,3), order='F')\n",
    "table = np.array([[-26024.,  -2365.,  29810.,],\n",
    " [-17722.,  12279.,  31244.,],\n",
    " [-16431.,  16132.,     np.nan,],\n",
    " [ -9212.,  25933.,     np.nan,],\n",
    " [ -6974.,  28745.,     np.nan]], dtype=np.float32)\n",
    "col = table[:,1]\n",
    "\n",
    "print (mystery)\n",
    "#print (nans_index)\n",
    "#print (n_nan)\n",
    "#print (mystery_new)\n",
    "#print (mystery_int)\n",
    "#print (array)\n",
    "print (table)\n",
    "print (col)"
   ]
  },
  {
   "cell_type": "code",
   "execution_count": 5,
   "metadata": {},
   "outputs": [
    {
     "name": "stdout",
     "output_type": "stream",
     "text": [
      "261.5\n"
     ]
    }
   ],
   "source": [
    "simplelist = [19, 242, 14, 152, 142, 1000]\n",
    "print (sum(simplelist) / len(simplelist))"
   ]
  }
 ],
 "metadata": {
  "kernelspec": {
   "display_name": "Python 3",
   "language": "python",
   "name": "python3"
  },
  "language_info": {
   "codemirror_mode": {
    "name": "ipython",
    "version": 3
   },
   "file_extension": ".py",
   "mimetype": "text/x-python",
   "name": "python",
   "nbconvert_exporter": "python",
   "pygments_lexer": "ipython3",
   "version": "3.10.7"
  },
  "orig_nbformat": 4
 },
 "nbformat": 4,
 "nbformat_minor": 2
}
