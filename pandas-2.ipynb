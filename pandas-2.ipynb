{
 "cells": [
  {
   "cell_type": "code",
   "execution_count": 112,
   "metadata": {},
   "outputs": [],
   "source": [
    "import pandas as pd\n",
    "import numpy as np\n",
    "\n",
    "cb_data = pd.read_csv('data/citibike-tripdata.csv', sep=',')"
   ]
  },
  {
   "cell_type": "code",
   "execution_count": 113,
   "metadata": {},
   "outputs": [
    {
     "name": "stdout",
     "output_type": "stream",
     "text": [
      "<class 'pandas.core.frame.DataFrame'>\n",
      "RangeIndex: 300000 entries, 0 to 299999\n",
      "Data columns (total 14 columns):\n",
      " #   Column                   Non-Null Count   Dtype  \n",
      "---  ------                   --------------   -----  \n",
      " 0   starttime                300000 non-null  object \n",
      " 1   stoptime                 300000 non-null  object \n",
      " 2   start station id         299831 non-null  float64\n",
      " 3   start station name       299831 non-null  object \n",
      " 4   start station latitude   300000 non-null  float64\n",
      " 5   start station longitude  300000 non-null  float64\n",
      " 6   end station id           299831 non-null  float64\n",
      " 7   end station name         299831 non-null  object \n",
      " 8   end station latitude     300000 non-null  float64\n",
      " 9   end station longitude    300000 non-null  float64\n",
      " 10  bikeid                   300000 non-null  int64  \n",
      " 11  usertype                 300000 non-null  object \n",
      " 12  birth year               300000 non-null  int64  \n",
      " 13  gender                   300000 non-null  int64  \n",
      "dtypes: float64(6), int64(3), object(5)\n",
      "memory usage: 32.0+ MB\n"
     ]
    }
   ],
   "source": [
    "cb_data.info()"
   ]
  },
  {
   "cell_type": "code",
   "execution_count": 114,
   "metadata": {},
   "outputs": [
    {
     "data": {
      "text/plain": [
       "is60\n",
       "False    288163\n",
       "True      11837\n",
       "Name: count, dtype: int64"
      ]
     },
     "metadata": {},
     "output_type": "display_data"
    }
   ],
   "source": [
    "#display(cb_data)\n",
    "#display(cb_data['birth year'].value_counts())\n",
    "#display(cb_data['start station id'].isna().value_counts())\n",
    "#display(cb_data['start station id'].value_counts())\n",
    "#display(cb_data['bikeid'].value_counts())\n",
    "#display(cb_data['usertype'].value_counts())\n",
    "#s = 232202\n",
    "#c = 67798\n",
    "#print (s / (s + c))\n",
    "#display(cb_data['gender'].value_counts())\n",
    "#display(cb_data['start station name'].describe())\n",
    "#display(cb_data['end station name'].describe())\n",
    "## md['Time'] = pd.to_datetime(md['Time'], dayfirst=False)\n",
    "## md['Year'] = md['Time'].dt.year\n",
    "#cb_data['startyear'] = pd.to_datetime(cb_data['starttime'], dayfirst=False)\n",
    "#cb_data['startyear'] = cb_data['startyear'].dt.year\n",
    "#cb_data['startyear'].apply(lambda x: x - cb_data['birth year'])\n",
    "#display(cb_data['startyear'].value_counts())\n",
    "#display(cb_data['birth year'].describe())\n",
    "#display(cb_data['start station name'].value_counts())\n",
    "#display(cb_data['end station name'].value_counts())\n",
    "\n",
    "cb_data['age'] = cb_data['birth year'].apply(lambda x: 2018 - x)\n",
    "cb_data['is60'] = cb_data['age'].apply(lambda x: x > 60)\n",
    "display(cb_data['is60'].value_counts())"
   ]
  },
  {
   "cell_type": "code",
   "execution_count": 115,
   "metadata": {},
   "outputs": [
    {
     "name": "stdout",
     "output_type": "stream",
     "text": [
      "3    7.266667\n",
      "dtype: float64\n"
     ]
    }
   ],
   "source": [
    "var = cb_data.loc[[3]]\n",
    "#cb_data.loc[[3]]['stoptime'] - cb_data.loc[[3]]['starttime']\n",
    "v1 = var['starttime']\n",
    "v2 = var['stoptime']\n",
    "\n",
    "print ((pd.to_datetime(v2, dayfirst=False) - pd.to_datetime(v1, dayfirst=False)).dt.seconds / 60)"
   ]
  },
  {
   "cell_type": "code",
   "execution_count": 116,
   "metadata": {},
   "outputs": [
    {
     "data": {
      "text/plain": [
       "isStartWe\n",
       "False    184865\n",
       "True     115135\n",
       "Name: count, dtype: int64"
      ]
     },
     "execution_count": 116,
     "metadata": {},
     "output_type": "execute_result"
    }
   ],
   "source": [
    "cb_data['startWe'] = pd.to_datetime(cb_data['starttime'], dayfirst=False)\n",
    "cb_data['startWe'] = cb_data['startWe'].dt.weekday\n",
    "cb_data['isStartWe'] = cb_data['startWe'].apply(lambda x: x > 4)\n",
    "#cb_data.info()\n",
    "cb_data['isStartWe'].value_counts()"
   ]
  },
  {
   "cell_type": "code",
   "execution_count": 117,
   "metadata": {},
   "outputs": [],
   "source": [
    "cb_data['time_of_day_dt'] = pd.to_datetime(cb_data['starttime'], dayfirst=False)\n",
    "cb_data['time_of_day_dt'] = cb_data['time_of_day_dt'].dt.hour"
   ]
  },
  {
   "cell_type": "code",
   "execution_count": 122,
   "metadata": {},
   "outputs": [
    {
     "name": "stdout",
     "output_type": "stream",
     "text": [
      "<class 'pandas.core.frame.DataFrame'>\n",
      "RangeIndex: 300000 entries, 0 to 299999\n",
      "Data columns (total 20 columns):\n",
      " #   Column                   Non-Null Count   Dtype  \n",
      "---  ------                   --------------   -----  \n",
      " 0   starttime                300000 non-null  object \n",
      " 1   stoptime                 300000 non-null  object \n",
      " 2   start station id         299831 non-null  float64\n",
      " 3   start station name       299831 non-null  object \n",
      " 4   start station latitude   300000 non-null  float64\n",
      " 5   start station longitude  300000 non-null  float64\n",
      " 6   end station id           299831 non-null  float64\n",
      " 7   end station name         299831 non-null  object \n",
      " 8   end station latitude     300000 non-null  float64\n",
      " 9   end station longitude    300000 non-null  float64\n",
      " 10  bikeid                   300000 non-null  int64  \n",
      " 11  usertype                 300000 non-null  object \n",
      " 12  birth year               300000 non-null  int64  \n",
      " 13  gender                   300000 non-null  int64  \n",
      " 14  age                      300000 non-null  int64  \n",
      " 15  is60                     300000 non-null  bool   \n",
      " 16  startWe                  300000 non-null  int32  \n",
      " 17  isStartWe                300000 non-null  bool   \n",
      " 18  time_of_day_dt           300000 non-null  int32  \n",
      " 19  time_of_day              300000 non-null  object \n",
      "dtypes: bool(2), float64(6), int32(2), int64(4), object(6)\n",
      "memory usage: 39.5+ MB\n"
     ]
    }
   ],
   "source": [
    "def func(hour):\n",
    "    if (hour >= 0) and (hour <= 6):\n",
    "        return 'night'\n",
    "    elif (hour > 6) and (hour <= 12):\n",
    "        return 'morning'\n",
    "    elif (hour > 12) and (hour <= 18):\n",
    "        return 'day'\n",
    "    elif (hour > 18) and (hour <= 23):\n",
    "        return 'night'\n",
    "    else:\n",
    "        return 'other'\n",
    "\n",
    "cb_data['time_of_day'] = cb_data['time_of_day_dt'].apply(func)"
   ]
  },
  {
   "cell_type": "code",
   "execution_count": 136,
   "metadata": {},
   "outputs": [
    {
     "data": {
      "text/plain": [
       "time_of_day_dt\n",
       "17    29601\n",
       "18    29099\n",
       "16    23105\n",
       "15    21108\n",
       "14    20208\n",
       "13    19891\n",
       "12    19157\n",
       "8     17807\n",
       "19    17136\n",
       "11    16821\n",
       "9     15776\n",
       "10    15007\n",
       "20    11168\n",
       "7     10962\n",
       "21     7827\n",
       "22     6035\n",
       "6      5325\n",
       "23     4207\n",
       "0      3360\n",
       "1      1977\n",
       "5      1592\n",
       "2      1299\n",
       "3       793\n",
       "4       739\n",
       "Name: count, dtype: int64"
      ]
     },
     "metadata": {},
     "output_type": "display_data"
    }
   ],
   "source": [
    "display(cb_data['time_of_day_dt'].value_counts())"
   ]
  },
  {
   "cell_type": "code",
   "execution_count": 128,
   "metadata": {},
   "outputs": [
    {
     "data": {
      "text/plain": [
       "time_of_day\n",
       "day        143012\n",
       "morning     95530\n",
       "night       61458\n",
       "Name: count, dtype: int64"
      ]
     },
     "metadata": {},
     "output_type": "display_data"
    },
    {
     "name": "stdout",
     "output_type": "stream",
     "text": [
      "<class 'pandas.core.series.Series'>\n",
      "Index: 3 entries, day to night\n",
      "Series name: count\n",
      "Non-Null Count  Dtype\n",
      "--------------  -----\n",
      "3 non-null      int64\n",
      "dtypes: int64(1)\n",
      "memory usage: 156.0+ bytes\n"
     ]
    }
   ],
   "source": [
    "tod = cb_data['time_of_day'].value_counts()\n",
    "display (tod)\n",
    "tod.info()"
   ]
  },
  {
   "cell_type": "code",
   "execution_count": 134,
   "metadata": {},
   "outputs": [
    {
     "data": {
      "text/plain": [
       "2.3269875362035863"
      ]
     },
     "metadata": {},
     "output_type": "display_data"
    }
   ],
   "source": [
    "#cb_data.info()\n",
    "display(tod['day'] / tod['night'])\n",
    "#display((tod['day'] + tod['morning']) / tod['night'])"
   ]
  }
 ],
 "metadata": {
  "kernelspec": {
   "display_name": "Python 3",
   "language": "python",
   "name": "python3"
  },
  "language_info": {
   "codemirror_mode": {
    "name": "ipython",
    "version": 3
   },
   "file_extension": ".py",
   "mimetype": "text/x-python",
   "name": "python",
   "nbconvert_exporter": "python",
   "pygments_lexer": "ipython3",
   "version": "3.10.7"
  },
  "orig_nbformat": 4
 },
 "nbformat": 4,
 "nbformat_minor": 2
}
