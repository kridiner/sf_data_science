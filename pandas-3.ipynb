{
 "cells": [
  {
   "cell_type": "code",
   "execution_count": null,
   "metadata": {},
   "outputs": [],
   "source": [
    "### Задание 2.3\n",
    "\n",
    "def delete_columns(df, col=[]):\n",
    "    for cc in col:\n",
    "        if cc not in df.columns:\n",
    "            return None\n",
    "    return df.drop(col, axis=1)"
   ]
  },
  {
   "cell_type": "code",
   "execution_count": null,
   "metadata": {},
   "outputs": [],
   "source": [
    "### Задание 2.4\n",
    "\n",
    "countries_df = pd.DataFrame({\n",
    "    'country': ['Англия', 'Канада', 'США', 'Россия', 'Украина', 'Беларусь', 'Казахстан'],\n",
    "    'population': [56.29, 38.05, 322.28, 146.24, 45.5, 9.5, 17.04],\n",
    "    'square': [133396, 9984670, 9826630, 17125191, 603628, 207600, 2724902]\n",
    "})\n",
    "countries_df['density'] = countries_df['population'] / countries_df['square'] * 1e6\n",
    "print(round(countries_df['density'].mean(), 2))"
   ]
  },
  {
   "cell_type": "code",
   "execution_count": null,
   "metadata": {},
   "outputs": [],
   "source": [
    "### Задание 3.3\n",
    "\n",
    "melb_df['WeekdaySale'] = melb_df['Date'].dt.dayofweek\n",
    "weekend_count = melb_df[(melb_df['WeekdaySale'] == 5) | (melb_df['WeekdaySale'] == 6)].shape[0]\n",
    "print(weekend_count)"
   ]
  },
  {
   "cell_type": "code",
   "execution_count": null,
   "metadata": {},
   "outputs": [],
   "source": [
    "### Задание 3.4\n",
    "\n",
    "df = pd.read_csv('http://bit.ly/uforeports')\n",
    "df['Time'] = pd.to_datetime(df.Time)\n",
    "print(df['Time'].dt.year.mode()[0])"
   ]
  },
  {
   "cell_type": "code",
   "execution_count": null,
   "metadata": {},
   "outputs": [],
   "source": [
    "### Задание 3.5\n",
    "\n",
    "df['Date'] = df['Time'].dt.date\n",
    "print(df[df['State']=='NV']['Date'].diff().dt.days.mean())"
   ]
  },
  {
   "cell_type": "code",
   "execution_count": null,
   "metadata": {},
   "outputs": [],
   "source": [
    "### Задание 4.2\n",
    "\n",
    "def get_weekend(weekday):\n",
    "    if weekday == 5 or weekday == 6:\n",
    "        return 1\n",
    "    else: \n",
    "        return 0\n",
    "melb_df['Weekend'] = melb_df['WeekdaySale'].apply(get_weekend)\n",
    "print(round(melb_df[melb_df['Weekend']==1]['Price'].mean(), 2))"
   ]
  },
  {
   "cell_type": "code",
   "execution_count": null,
   "metadata": {},
   "outputs": [],
   "source": [
    "### Задание 4.3\n",
    "\n",
    "popular_seller = melb_df['SellerG'].value_counts().nlargest(49).index\n",
    "# заменяем имена компаний, не попавших в список популярных, на строку 'other'\n",
    "melb_df['SellerG'] = melb_df['SellerG'].apply(lambda x: x if x in popular_seller else 'other') \n",
    "\n",
    "a = melb_df[melb_df['SellerG'] == 'Nelson']['Price'].min()\n",
    "b = melb_df[melb_df['SellerG'] == 'other']['Price'].min()\n",
    "print(round(a/b, 1))"
   ]
  },
  {
   "cell_type": "code",
   "execution_count": null,
   "metadata": {},
   "outputs": [],
   "source": [
    "### Задание 4.4\n",
    "\n",
    "def get_experience(arg):\n",
    "    month_key_words = ['месяц', 'месяцев', 'месяца']\n",
    "    year_key_words = ['год', 'лет', 'года']\n",
    "    args_splited = arg.split(' ')\n",
    "    month = 0\n",
    "    year = 0\n",
    "    for i in range(len(args_splited)):\n",
    "        if args_splited[i] in month_key_words:\n",
    "            month = args_splited[i-1]\n",
    "        if args_splited[i] in year_key_words:\n",
    "            year = args_splited[i-1]\n",
    "    return int(year)*12 + int(month)"
   ]
  },
  {
   "cell_type": "code",
   "execution_count": null,
   "metadata": {},
   "outputs": [],
   "source": [
    "### Задание 6.3\n",
    "\n",
    "print(data['start station id'].mode()[0])\n",
    "\n",
    "\n",
    "\n",
    "###Задание 6.4\n",
    "\n",
    "print(data['bikeid'].mode()[0])\n",
    "\n",
    "\n",
    "\n",
    "\n",
    "### Задание 6.5\n",
    "\n",
    "mode_usertype = data['usertype'].mode()[0]\n",
    "count_mode_user = data[data['usertype'] == mode_usertype].shape[0]\n",
    "print(round(count_mode_user / data.shape[0], 2))\n",
    "\n",
    "\n",
    "\n",
    "### Задание 6.6\n",
    "\n",
    "male_count = data[data['gender'] == 1].shape[0]\n",
    "female_count = data[data['gender'] == 0].shape[0]\n",
    "print(max([male_count, female_count]))\n",
    "\n",
    "\n",
    "\n",
    "### Задание 6.8\n",
    "\n",
    "data.drop(['start station id', 'end station id'], axis=1, inplace=True)\n",
    "print(data.shape[1])\n",
    "\n",
    "\n",
    "\n",
    "### Задание 6.9\n",
    "\n",
    "data['age'] = 2018 - data['birth year']\n",
    "data.drop(['birth year'], axis=1, inplace=True)\n",
    "print(data[data['age'] > 60].shape[0])\n",
    "\n",
    "\n",
    "\n",
    "### Задание 6.10\n",
    "\n",
    "data['starttime'] = pd.to_datetime(data['starttime'])\n",
    "data['stoptime'] = pd.to_datetime(data['stoptime'])\n",
    "data['trip duration'] = (data['stoptime'] - data['starttime'])\n",
    "data.loc[3, 'trip duration']\n",
    "\n",
    "\n",
    "\n",
    "### Задание 6.11\n",
    "\n",
    "weekday = data['starttime'].dt.dayofweek\n",
    "data['weekend'] = weekday.apply(lambda x: 1 if x ==5 or x == 6 else 0)\n",
    "data['weekend'].sum()\n",
    "\n",
    "\n",
    "\n",
    "### Задание 6.12\n",
    "\n",
    "def get_time_of_day(time):\n",
    "    if 0 <= time <= 6:\n",
    "        return 'night'\n",
    "    elif 6 < time <= 12:\n",
    "        return 'morning'\n",
    "    elif 12 < time <= 18:\n",
    "        return 'day'\n",
    "    elif 18 < time <= 23:\n",
    "        return 'evening'\n",
    "\n",
    "data['time_of_day'] = data['starttime'].dt.hour.apply(get_time_of_day)\n",
    "a = data[data['time_of_day'] == 'day'].shape[0]\n",
    "b = data[data['time_of_day'] == 'night'].shape[0]\n",
    "print(round(a / b))"
   ]
  }
 ],
 "metadata": {
  "language_info": {
   "name": "python"
  },
  "orig_nbformat": 4
 },
 "nbformat": 4,
 "nbformat_minor": 2
}
